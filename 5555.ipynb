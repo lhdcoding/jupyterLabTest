{
 "cells": [
  {
   "cell_type": "code",
   "execution_count": 1,
   "id": "a8453879-5e69-4573-bdd9-f5e6528a4f19",
   "metadata": {},
   "outputs": [
    {
     "data": {
      "text/plain": [
       "1111110"
      ]
     },
     "execution_count": 1,
     "metadata": {},
     "output_type": "execute_result"
    }
   ],
   "source": [
    "555555+555555"
   ]
  },
  {
   "cell_type": "code",
   "execution_count": null,
   "id": "e2947b73-6c51-47cc-a15a-dba8459d5aec",
   "metadata": {},
   "outputs": [],
   "source": []
  }
 ],
 "metadata": {
  "kernelspec": {
   "display_name": "Python 3 (ipykernel)",
   "language": "python",
   "name": "python3"
  },
  "language_info": {
   "codemirror_mode": {
    "name": "ipython",
    "version": 3
   },
   "file_extension": ".py",
   "mimetype": "text/x-python",
   "name": "python",
   "nbconvert_exporter": "python",
   "pygments_lexer": "ipython3",
   "version": "3.12.1"
  }
 },
 "nbformat": 4,
 "nbformat_minor": 5
}
