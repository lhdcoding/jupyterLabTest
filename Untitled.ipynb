{
 "cells": [
  {
   "cell_type": "code",
   "execution_count": 1,
   "id": "97b6e51c-df5b-46eb-8be4-259696948665",
   "metadata": {},
   "outputs": [
    {
     "data": {
      "text/plain": [
       "66666666666666666666666666"
      ]
     },
     "execution_count": 1,
     "metadata": {},
     "output_type": "execute_result"
    }
   ],
   "source": [
    "66666666666666666666666666"
   ]
  },
  {
   "cell_type": "code",
   "execution_count": null,
   "id": "ac4ec056-7a8b-4050-ba65-38c8174a57fe",
   "metadata": {},
   "outputs": [],
   "source": []
  }
 ],
 "metadata": {
  "kernelspec": {
   "display_name": "Python 3 (ipykernel)",
   "language": "python",
   "name": "python3"
  },
  "language_info": {
   "codemirror_mode": {
    "name": "ipython",
    "version": 3
   },
   "file_extension": ".py",
   "mimetype": "text/x-python",
   "name": "python",
   "nbconvert_exporter": "python",
   "pygments_lexer": "ipython3",
   "version": "3.12.1"
  }
 },
 "nbformat": 4,
 "nbformat_minor": 5
}
